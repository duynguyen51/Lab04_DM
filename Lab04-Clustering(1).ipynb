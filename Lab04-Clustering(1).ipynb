{
 "cells": [
  {
   "cell_type": "markdown",
   "metadata": {},
   "source": [
    "# Lab04: Clustering\n",
    "\n",
    "- MSSV: 1712019\n",
    "- Họ và tên: Nguyễn Hoàng Thái Duy"
   ]
  },
  {
   "cell_type": "markdown",
   "metadata": {},
   "source": [
    "## Yêu cầu bài tập\n",
    "\n",
    "**Cách làm bài**\n",
    "\n",
    "\n",
    "Bạn sẽ làm trực tiếp trên file notebook này; trong file, từ `TODO` để cho biết những phần mà bạn cần phải làm.\n",
    "\n",
    "Bạn có thể thảo luận ý tưởng cũng như tham khảo các tài liệu, nhưng *code và bài làm phải là của bạn*. \n",
    "\n",
    "Nếu vi phạm thì sẽ bị 0 điểm cho bài tập này.\n",
    "\n",
    "**Cách nộp bài**\n",
    "\n",
    "Trước khi nộp bài, rerun lại notebook (`Kernel` -> `Restart & Run All`).\n",
    "\n",
    "Sau đó, tạo thư mục có tên `MSSV` của bạn (vd, nếu bạn có MSSV là 1234567 thì bạn đặt tên thư mục là `1234567`) Chép file `Lab04-Clustering.ipynb` vào, rồi nén thư mục `MSSV` này lại và nộp ở link trên moodle.\n",
    "\n",
    "**Nội dung bài tập**\n",
    "\n",
    "Trong bài này, bạn sẽ cài đặt 2 thuật toán `k-means` và `k-medois` để gom nhóm dữ liệu. "
   ]
  },
  {
   "cell_type": "markdown",
   "metadata": {},
   "source": [
    "## Import thư viện "
   ]
  },
  {
   "cell_type": "code",
   "execution_count": 1,
   "metadata": {},
   "outputs": [],
   "source": [
    "import numpy as np\n",
    "import matplotlib.pyplot as plt"
   ]
  },
  {
   "cell_type": "markdown",
   "metadata": {},
   "source": [
    "## 1. Cài đặt thuật toán K-mean"
   ]
  },
  {
   "cell_type": "markdown",
   "metadata": {},
   "source": [
    "Tính khoảng cách euclid giữa 2 điểm dữ liệu x, y"
   ]
  },
  {
   "cell_type": "code",
   "execution_count": null,
   "metadata": {},
   "outputs": [],
   "source": [
    "def euclidianDistance(x, y):\n",
    "    '''\n",
    "    Euclidian distance between x, y\n",
    "    --------\n",
    "    Return\n",
    "    d: float\n",
    "    '''\n",
    "    #TODO\n",
    "     "
   ]
  },
  {
   "cell_type": "code",
   "execution_count": null,
   "metadata": {},
   "outputs": [],
   "source": [
    "class k_means:\n",
    "    def __init__(self, k=2, thresold = 0.001, max_iter = 300, has_converged=False):\n",
    "      \n",
    "        ''' \n",
    "        Class constructor\n",
    "        \n",
    "        Parameters\n",
    "        ----------\n",
    "        - k: number of clusters. \n",
    "        - thresold (percentage): stop algorithm when difference between prev cluster \n",
    "                                 and new cluster is less than thresold\n",
    "        - max_iter: number of times centroids will move\n",
    "        - has_converged: to check if the algorithm stop or not\n",
    "        '''\n",
    "\n",
    " \n",
    "        self.k = k\n",
    "        self.thresold = thresold\n",
    "        self.max_iter = max_iter\n",
    "        self.has_converged= has_converged\n",
    "        \n",
    "    def initCentroids(self, X):\n",
    "        ''' \n",
    "        Parameters\n",
    "        ----------\n",
    "        X: input data. \n",
    "        '''\n",
    "        self.centroids=[]\n",
    "        \n",
    "        #Starting clusters will be random members from X set\n",
    "        indexes = np.random.randint(0, len(X)-1,3)\n",
    "        self.centroids=X[indexes]\n",
    "            \n",
    "        \n",
    "    def updateCentroids(self, cur_centroids):\n",
    "        '''\n",
    "        Class constructor\n",
    "        \n",
    "        Parameters\n",
    "        ----------\n",
    "        cur_centroids: list of new centroids\n",
    "        \n",
    "        '''\n",
    "        self.has_converged=True\n",
    "        \n",
    "        for c in range(0,self.k):\n",
    "            prev_centroid = self.centroids[c]\n",
    "            cur_centroid  = cur_centroids[c]\n",
    "            #checking if % of difference between old position and new position is more than thresold\n",
    "            \n",
    "            #TODO d=?\n",
    "            \n",
    "            \n",
    "            \n",
    "            if  d > self.thresold:\n",
    "                self.has_converged = False\n",
    "                self.centroids = cur_centroids\n",
    "            \n",
    "    def fit(self, X):\n",
    "        '''\n",
    "        FIT function, used to find clusters\n",
    "    \n",
    "        Parameters\n",
    "        ----------\n",
    "        X: input data. \n",
    "        '''\n",
    "        #Init list cluster centroids\n",
    "        self.initCentroids(X)\n",
    "            \n",
    "        #Main loop\n",
    "        for i in range(self.max_iter):  \n",
    "            #Centroids for this iteration\n",
    "            cur_centroids = []\n",
    "            \n",
    "            for centroid in range(0,self.k):\n",
    "                #List samples of current cluster\n",
    "                samples = []\n",
    "                \n",
    "                for k in range(len(X)):\n",
    "                    d_list = []\n",
    "                    for j in range(self.k):\n",
    "                        d_list.append(euclidianDistance(self.centroids[j], X[k]))\n",
    "                    \n",
    "                    # Cluster has minimal distance between its centroid and data sample\n",
    "                    # TODO (c=???)\n",
    "                    \n",
    "\n",
    "                    #Store sample to list\n",
    "                    if c == centroid:\n",
    "                        samples.append(X[k])   \n",
    "                \n",
    "                #New centroids of each cluster is calculated by mean of all samples closest to it\n",
    "                \n",
    "                #TODO (new_centroid=???)\n",
    "\n",
    "            \n",
    "                cur_centroids.append(new_centroid)\n",
    "                \n",
    "            self.updateCentroids(cur_centroids)\n",
    "            \n",
    "            if self.has_converged:\n",
    "                break\n",
    "        \n",
    "        #Each cluster represented by its centroid\n",
    "        return np.array(self.centroids)\n",
    "\n",
    "    def predict(self, data):\n",
    "        ''' \n",
    "        Parameters\n",
    "        ----------\n",
    "        data: input data.\n",
    "        \n",
    "        Returns:\n",
    "        ----------\n",
    "        pred: list cluster indexes of input data \n",
    "        '''\n",
    "    \n",
    "        pred = []\n",
    "        for i in range(len(data)):\n",
    "            # Create list distances between centroids and data sample\n",
    "            d_list = []\n",
    "            for j in range(len(self.centroids)):\n",
    "                \n",
    "                # Calculate distances between current data sample and centroid(using euclidian distance) \n",
    "                # Store to d_list\n",
    "                #TODO \n",
    "\n",
    "                \n",
    "            # Store the Cluster has minimal distance between its centroid and current data sample to pred\n",
    "            #TODO \n",
    "            \n",
    "        return np.array(pred)"
   ]
  },
  {
   "cell_type": "markdown",
   "metadata": {},
   "source": [
    "## Chạy thuật toán "
   ]
  },
  {
   "cell_type": "markdown",
   "metadata": {},
   "source": [
    "**Khởi tạo dữ liệu**"
   ]
  },
  {
   "cell_type": "markdown",
   "metadata": {},
   "source": [
    "Ta tạo dữ liệu bằng cách lấy các điểm theo phân phối chuẩn có kỳ vọng tại các điểm có tọa độ (2, 2), (8, 3) và (3, 6), ma trận hiệp phương sai giống nhau và là ma trận đơn vị. Mỗi cluster có 500 điểm. (Chú ý rằng mỗi điểm dữ liệu là một hàng của ma trận dữ liệu."
   ]
  },
  {
   "cell_type": "code",
   "execution_count": null,
   "metadata": {},
   "outputs": [],
   "source": [
    "np.random.seed(8) # This will fix the randomization; so, you and me will have the same results\n",
    "\n",
    "means = [[2, 2], [8, 3], [3, 6]]\n",
    "cov = [[1, 0], [0, 1]]\n",
    "N = 500\n",
    "X0 = np.random.multivariate_normal(means[0], cov, N)\n",
    "X1 = np.random.multivariate_normal(means[1], cov, N)\n",
    "X2 = np.random.multivariate_normal(means[2], cov, N)\n",
    "\n",
    "X = np.concatenate((X0, X1, X2), axis = 0)\n",
    "K = 3\n",
    "\n",
    "original_label = np.asarray([0]*N + [1]*N + [2]*N).T"
   ]
  },
  {
   "cell_type": "markdown",
   "metadata": {},
   "source": [
    "**Hiển thị dữ liệu trên đồ thị**"
   ]
  },
  {
   "cell_type": "code",
   "execution_count": null,
   "metadata": {},
   "outputs": [],
   "source": [
    "def visualize(X, label):\n",
    "    K = np.amax(label) + 1\n",
    "    X0 = X[label == 0, :]\n",
    "    X1 = X[label == 1, :]\n",
    "    X2 = X[label == 2, :]\n",
    "    \n",
    "    #you can fix this dpi \n",
    "    plt.figure(dpi=120)\n",
    "    \n",
    "    plt.plot(X0[:, 0], X0[:, 1], 'b^', markersize = 4, alpha = .8)\n",
    "    plt.plot(X1[:, 0], X1[:, 1], 'go', markersize = 4, alpha = .8)\n",
    "    plt.plot(X2[:, 0], X2[:, 1], 'rs', markersize = 4, alpha = .8)\n",
    "\n",
    "    plt.axis('equal')\n",
    "    plt.plot()\n",
    "    plt.show()\n",
    "    \n",
    "visualize(X, original_label)"
   ]
  },
  {
   "cell_type": "markdown",
   "metadata": {},
   "source": [
    "**Gom nhóm dữ liệu bằng thuật toán k-means mà bạn vừa cài đặt**"
   ]
  },
  {
   "cell_type": "code",
   "execution_count": null,
   "metadata": {},
   "outputs": [],
   "source": [
    "model1=k_means(k=3)\n",
    "print('Centers found by your model:')\n",
    "print(model1.fit(X))\n",
    "\n",
    "pred=model1.predict(X)\n",
    "\n",
    "visualize(X,pred)\n"
   ]
  },
  {
   "cell_type": "markdown",
   "metadata": {},
   "source": [
    "**Thử lại kết quả với scikit learn**"
   ]
  },
  {
   "cell_type": "code",
   "execution_count": null,
   "metadata": {},
   "outputs": [],
   "source": [
    "from sklearn.cluster import KMeans\n",
    "model2 = KMeans(n_clusters=3, random_state=0).fit(X)\n",
    "print('Centers found by scikit-learn:')\n",
    "print(model2.cluster_centers_)\n",
    "pred_label = model2.predict(X)\n",
    "visualize(X, pred_label)"
   ]
  },
  {
   "cell_type": "markdown",
   "metadata": {},
   "source": [
    "## 2. Cài đặt thuật toán K-medoids"
   ]
  },
  {
   "cell_type": "markdown",
   "metadata": {},
   "source": [
    "Các bạn cài đặt và thử nghiệm thuật toán K-medois tương tự như phần 1"
   ]
  },
  {
   "cell_type": "code",
   "execution_count": null,
   "metadata": {},
   "outputs": [],
   "source": [
    "#K-medois Implementation\n",
    "#TODO "
   ]
  },
  {
   "cell_type": "markdown",
   "metadata": {},
   "source": [
    "**Nêu điểm khác biệt giữa thuật toán K-means và K-medoids:**\n",
    "\n",
    "TODO: "
   ]
  },
  {
   "cell_type": "markdown",
   "metadata": {},
   "source": [
    "# 3. Sử dụng thuật toán gom cụm trên tập dữ liệu Iris "
   ]
  },
  {
   "cell_type": "code",
   "execution_count": null,
   "metadata": {},
   "outputs": [],
   "source": [
    "from sklearn import datasets\n",
    "iris = datasets.load_iris()"
   ]
  },
  {
   "cell_type": "code",
   "execution_count": null,
   "metadata": {},
   "outputs": [],
   "source": [
    "X = iris.data\n",
    "y = iris.target"
   ]
  },
  {
   "cell_type": "code",
   "execution_count": null,
   "metadata": {},
   "outputs": [],
   "source": [
    "#Visualizing data\n",
    "fig, axes = plt.subplots(1, 2, figsize=(14,6),dpi=100)\n",
    "axes[0].scatter(X[:,0], X[:,1], c=y)\n",
    "axes[0].set_xlabel('Sepal Length')\n",
    "axes[0].set_ylabel('Sepal Width')\n",
    "axes[1].scatter(X[:,2], X[:,3], c=y)\n",
    "axes[1].set_xlabel('Petal Length')\n",
    "axes[1].set_ylabel('Pepal Width')"
   ]
  },
  {
   "cell_type": "markdown",
   "metadata": {},
   "source": [
    "**Nhận xét:**\n",
    "\n",
    "TODO:"
   ]
  },
  {
   "cell_type": "code",
   "execution_count": null,
   "metadata": {},
   "outputs": [],
   "source": [
    "D=X[:,2:]\n",
    "model=k_means(k=3)\n",
    "centers = model.fit(D)\n",
    "print(centers)"
   ]
  },
  {
   "cell_type": "code",
   "execution_count": null,
   "metadata": {},
   "outputs": [],
   "source": [
    "new_labels = model.predict(D)\n",
    "# Plot the identified clusters and compare with the answers\n",
    "fig, axes = plt.subplots(1, 2, figsize=(14,6),dpi=100)\n",
    "axes[0].scatter(D[:, 0], D[:, 1], c=y, cmap='gist_rainbow',\n",
    "edgecolor='k')\n",
    "axes[1].scatter(D[:, 0], D[:, 1], c=new_labels, cmap='jet',\n",
    "edgecolor='k')\n",
    "axes[0].set_xlabel('Petal length')\n",
    "axes[0].set_ylabel('Petal width')\n",
    "axes[1].set_xlabel('Petal length')\n",
    "axes[1].set_ylabel('Petal width')\n",
    "axes[0].set_title('Actual')\n",
    "axes[1].set_title('Predicted')"
   ]
  },
  {
   "cell_type": "markdown",
   "metadata": {},
   "source": [
    "**Nhận xét kết quả:**\n",
    "\n",
    "TODO:\n",
    "\n"
   ]
  },
  {
   "cell_type": "markdown",
   "metadata": {},
   "source": [
    "### Thực hiện tương tự với thuật toán K-medois"
   ]
  },
  {
   "cell_type": "code",
   "execution_count": null,
   "metadata": {},
   "outputs": [],
   "source": [
    "#TODO"
   ]
  }
 ],
 "metadata": {
  "kernelspec": {
   "display_name": "Python 3",
   "language": "python",
   "name": "python3"
  },
  "language_info": {
   "codemirror_mode": {
    "name": "ipython",
    "version": 3
   },
   "file_extension": ".py",
   "mimetype": "text/x-python",
   "name": "python",
   "nbconvert_exporter": "python",
   "pygments_lexer": "ipython3",
   "version": "3.7.4"
  }
 },
 "nbformat": 4,
 "nbformat_minor": 2
}
